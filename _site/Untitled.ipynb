{
 "cells": [
  {
   "cell_type": "code",
   "execution_count": 8,
   "id": "a6db283c-8413-4d4d-8b24-4c8b13516543",
   "metadata": {},
   "outputs": [],
   "source": [
    "from pptx import Presentation\n",
    "from pptx.util import Inches\n",
    "\n",
    "# Initialize Presentation object\n",
    "prs = Presentation()\n",
    "\n",
    "# Choose slide layout (1 is the index for a title and content layout)\n",
    "slide_layout = prs.slide_layouts[1]\n",
    "\n",
    "# Add a new slide\n",
    "slide = prs.slides.add_slide(slide_layout)\n",
    "\n",
    "# Add a title\n",
    "title = slide.shapes.title\n",
    "title.text = \"Course Summary\"\n",
    "\n",
    "# Add bullet points\n",
    "content = slide.placeholders[1]\n",
    "content.text = \"\"\"Objective: Hands-on project development in AI & MLOps; transform your idea into a functional app.\n",
    "Guidance: Weekly demonstrations from Pavlos' project provide practical insights and a reference point.\n",
    "Milestones: Assess project evolution and grasp of MLOps concepts; crucial for grading.\n",
    "Creativity: Open platform for start-up ideas, research, or personal hobbies.\n",
    "Assessment: Milestones are key to grades and holistic development.\n",
    "Group Formation: Starts today, aiming for teams of 4-5.\"\"\"\n",
    "\n",
    "# Save the presentation\n",
    "prs.save('course_summary_presentation.pptx')\n"
   ]
  },
  {
   "cell_type": "code",
   "execution_count": null,
   "id": "4184699a-a0af-4daf-8fa6-c6d7ee2d8230",
   "metadata": {},
   "outputs": [],
   "source": []
  }
 ],
 "metadata": {
  "kernelspec": {
   "display_name": "Python 3",
   "language": "python",
   "name": "python3"
  },
  "language_info": {
   "codemirror_mode": {
    "name": "ipython",
    "version": 3
   },
   "file_extension": ".py",
   "mimetype": "text/x-python",
   "name": "python",
   "nbconvert_exporter": "python",
   "pygments_lexer": "ipython3",
   "version": "3.8.8"
  }
 },
 "nbformat": 4,
 "nbformat_minor": 5
}
